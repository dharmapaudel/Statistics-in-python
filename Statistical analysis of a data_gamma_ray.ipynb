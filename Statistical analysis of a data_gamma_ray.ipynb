{
 "cells": [
  {
   "cell_type": "code",
   "execution_count": 1,
   "metadata": {},
   "outputs": [
    {
     "data": {
      "text/html": [
       "<div>\n",
       "<style scoped>\n",
       "    .dataframe tbody tr th:only-of-type {\n",
       "        vertical-align: middle;\n",
       "    }\n",
       "\n",
       "    .dataframe tbody tr th {\n",
       "        vertical-align: top;\n",
       "    }\n",
       "\n",
       "    .dataframe thead th {\n",
       "        text-align: right;\n",
       "    }\n",
       "</style>\n",
       "<table border=\"1\" class=\"dataframe\">\n",
       "  <thead>\n",
       "    <tr style=\"text-align: right;\">\n",
       "      <th></th>\n",
       "      <th>thickness(mm)</th>\n",
       "      <th>x</th>\n",
       "      <th>N1</th>\n",
       "      <th>N2</th>\n",
       "      <th>N3</th>\n",
       "      <th>N</th>\n",
       "      <th>lnN</th>\n",
       "      <th>lnN1</th>\n",
       "      <th>lnN2</th>\n",
       "      <th>lnN3</th>\n",
       "      <th>SE</th>\n",
       "    </tr>\n",
       "  </thead>\n",
       "  <tbody>\n",
       "    <tr>\n",
       "      <th>1</th>\n",
       "      <td>0.05</td>\n",
       "      <td>0.135</td>\n",
       "      <td>428</td>\n",
       "      <td>416</td>\n",
       "      <td>414</td>\n",
       "      <td>419.333333</td>\n",
       "      <td>6.038666</td>\n",
       "      <td>6.059123</td>\n",
       "      <td>6.030685</td>\n",
       "      <td>6.025866</td>\n",
       "      <td>0.017972</td>\n",
       "    </tr>\n",
       "    <tr>\n",
       "      <th>2</th>\n",
       "      <td>0.10</td>\n",
       "      <td>0.270</td>\n",
       "      <td>380</td>\n",
       "      <td>370</td>\n",
       "      <td>367</td>\n",
       "      <td>372.333333</td>\n",
       "      <td>5.919790</td>\n",
       "      <td>5.940171</td>\n",
       "      <td>5.913503</td>\n",
       "      <td>5.905362</td>\n",
       "      <td>0.018208</td>\n",
       "    </tr>\n",
       "    <tr>\n",
       "      <th>3</th>\n",
       "      <td>0.15</td>\n",
       "      <td>0.405</td>\n",
       "      <td>280</td>\n",
       "      <td>278</td>\n",
       "      <td>274</td>\n",
       "      <td>277.333333</td>\n",
       "      <td>5.625220</td>\n",
       "      <td>5.634790</td>\n",
       "      <td>5.627621</td>\n",
       "      <td>5.613128</td>\n",
       "      <td>0.011035</td>\n",
       "    </tr>\n",
       "    <tr>\n",
       "      <th>4</th>\n",
       "      <td>0.20</td>\n",
       "      <td>0.540</td>\n",
       "      <td>245</td>\n",
       "      <td>238</td>\n",
       "      <td>237</td>\n",
       "      <td>240.000000</td>\n",
       "      <td>5.480639</td>\n",
       "      <td>5.501258</td>\n",
       "      <td>5.472271</td>\n",
       "      <td>5.468060</td>\n",
       "      <td>0.018074</td>\n",
       "    </tr>\n",
       "    <tr>\n",
       "      <th>5</th>\n",
       "      <td>0.25</td>\n",
       "      <td>0.675</td>\n",
       "      <td>197</td>\n",
       "      <td>187</td>\n",
       "      <td>189</td>\n",
       "      <td>191.000000</td>\n",
       "      <td>5.252273</td>\n",
       "      <td>5.283204</td>\n",
       "      <td>5.231109</td>\n",
       "      <td>5.241747</td>\n",
       "      <td>0.027525</td>\n",
       "    </tr>\n",
       "  </tbody>\n",
       "</table>\n",
       "</div>"
      ],
      "text/plain": [
       "   thickness(mm)      x   N1   N2   N3           N       lnN      lnN1  \\\n",
       "1           0.05  0.135  428  416  414  419.333333  6.038666  6.059123   \n",
       "2           0.10  0.270  380  370  367  372.333333  5.919790  5.940171   \n",
       "3           0.15  0.405  280  278  274  277.333333  5.625220  5.634790   \n",
       "4           0.20  0.540  245  238  237  240.000000  5.480639  5.501258   \n",
       "5           0.25  0.675  197  187  189  191.000000  5.252273  5.283204   \n",
       "\n",
       "       lnN2      lnN3       SE   \n",
       "1  6.030685  6.025866  0.017972  \n",
       "2  5.913503  5.905362  0.018208  \n",
       "3  5.627621  5.613128  0.011035  \n",
       "4  5.472271  5.468060  0.018074  \n",
       "5  5.231109  5.241747  0.027525  "
      ]
     },
     "execution_count": 1,
     "metadata": {},
     "output_type": "execute_result"
    }
   ],
   "source": [
    "#Testing of Normality of a given data\n",
    "\n",
    "# Shapiro-Wilk Test\n",
    "import pandas as pd\n",
    "import numpy as np\n",
    "import random as random\n",
    "from scipy.stats import shapiro ,norm \n",
    "import matplotlib.pyplot as plt\n",
    "from matplotlib.pyplot import figure\n",
    "%matplotlib inline\n",
    "df2 = pd.read_csv('ac.csv', names = ['thickness(mm)' , 'x', 'N1','N2','N3', 'N','lnN','lnN1', 'lnN2', 'lnN3', 'SE ']) # for standard error(SE) , we can do STDEV(B1:B10)/SQRT(COUNT(B1:B10)) in excell.\n",
    "df2.head() #showing practical data of \\\\\"Gamma absorption coefficient using GM counter\""
   ]
  },
  {
   "cell_type": "code",
   "execution_count": 2,
   "metadata": {},
   "outputs": [
    {
     "data": {
      "text/html": [
       "<div>\n",
       "<style scoped>\n",
       "    .dataframe tbody tr th:only-of-type {\n",
       "        vertical-align: middle;\n",
       "    }\n",
       "\n",
       "    .dataframe tbody tr th {\n",
       "        vertical-align: top;\n",
       "    }\n",
       "\n",
       "    .dataframe thead th {\n",
       "        text-align: right;\n",
       "    }\n",
       "</style>\n",
       "<table border=\"1\" class=\"dataframe\">\n",
       "  <thead>\n",
       "    <tr style=\"text-align: right;\">\n",
       "      <th></th>\n",
       "      <th>thickness(mm)</th>\n",
       "      <th>x</th>\n",
       "      <th>N1</th>\n",
       "      <th>N2</th>\n",
       "      <th>N3</th>\n",
       "      <th>N</th>\n",
       "      <th>lnN</th>\n",
       "      <th>SE</th>\n",
       "    </tr>\n",
       "  </thead>\n",
       "  <tbody>\n",
       "    <tr>\n",
       "      <th>1</th>\n",
       "      <td>0.05</td>\n",
       "      <td>0.135</td>\n",
       "      <td>428</td>\n",
       "      <td>416</td>\n",
       "      <td>414</td>\n",
       "      <td>419.333333</td>\n",
       "      <td>6.038666</td>\n",
       "      <td>0.017972</td>\n",
       "    </tr>\n",
       "    <tr>\n",
       "      <th>2</th>\n",
       "      <td>0.10</td>\n",
       "      <td>0.270</td>\n",
       "      <td>380</td>\n",
       "      <td>370</td>\n",
       "      <td>367</td>\n",
       "      <td>372.333333</td>\n",
       "      <td>5.919790</td>\n",
       "      <td>0.018208</td>\n",
       "    </tr>\n",
       "    <tr>\n",
       "      <th>3</th>\n",
       "      <td>0.15</td>\n",
       "      <td>0.405</td>\n",
       "      <td>280</td>\n",
       "      <td>278</td>\n",
       "      <td>274</td>\n",
       "      <td>277.333333</td>\n",
       "      <td>5.625220</td>\n",
       "      <td>0.011035</td>\n",
       "    </tr>\n",
       "    <tr>\n",
       "      <th>4</th>\n",
       "      <td>0.20</td>\n",
       "      <td>0.540</td>\n",
       "      <td>245</td>\n",
       "      <td>238</td>\n",
       "      <td>237</td>\n",
       "      <td>240.000000</td>\n",
       "      <td>5.480639</td>\n",
       "      <td>0.018074</td>\n",
       "    </tr>\n",
       "    <tr>\n",
       "      <th>5</th>\n",
       "      <td>0.25</td>\n",
       "      <td>0.675</td>\n",
       "      <td>197</td>\n",
       "      <td>187</td>\n",
       "      <td>189</td>\n",
       "      <td>191.000000</td>\n",
       "      <td>5.252273</td>\n",
       "      <td>0.027525</td>\n",
       "    </tr>\n",
       "    <tr>\n",
       "      <th>6</th>\n",
       "      <td>0.30</td>\n",
       "      <td>0.810</td>\n",
       "      <td>160</td>\n",
       "      <td>154</td>\n",
       "      <td>155</td>\n",
       "      <td>156.333333</td>\n",
       "      <td>5.051990</td>\n",
       "      <td>0.020456</td>\n",
       "    </tr>\n",
       "    <tr>\n",
       "      <th>7</th>\n",
       "      <td>0.35</td>\n",
       "      <td>0.945</td>\n",
       "      <td>177</td>\n",
       "      <td>177</td>\n",
       "      <td>175</td>\n",
       "      <td>176.333333</td>\n",
       "      <td>5.172376</td>\n",
       "      <td>0.006561</td>\n",
       "    </tr>\n",
       "    <tr>\n",
       "      <th>8</th>\n",
       "      <td>0.40</td>\n",
       "      <td>1.080</td>\n",
       "      <td>148</td>\n",
       "      <td>144</td>\n",
       "      <td>141</td>\n",
       "      <td>144.333333</td>\n",
       "      <td>4.972125</td>\n",
       "      <td>0.024295</td>\n",
       "    </tr>\n",
       "    <tr>\n",
       "      <th>9</th>\n",
       "      <td>0.55</td>\n",
       "      <td>1.485</td>\n",
       "      <td>144</td>\n",
       "      <td>140</td>\n",
       "      <td>139</td>\n",
       "      <td>141.000000</td>\n",
       "      <td>4.948760</td>\n",
       "      <td>0.018681</td>\n",
       "    </tr>\n",
       "    <tr>\n",
       "      <th>10</th>\n",
       "      <td>0.95</td>\n",
       "      <td>2.565</td>\n",
       "      <td>138</td>\n",
       "      <td>133</td>\n",
       "      <td>134</td>\n",
       "      <td>135.000000</td>\n",
       "      <td>4.905275</td>\n",
       "      <td>0.019507</td>\n",
       "    </tr>\n",
       "  </tbody>\n",
       "</table>\n",
       "</div>"
      ],
      "text/plain": [
       "    thickness(mm)      x   N1   N2   N3           N       lnN       SE \n",
       "1            0.05  0.135  428  416  414  419.333333  6.038666  0.017972\n",
       "2            0.10  0.270  380  370  367  372.333333  5.919790  0.018208\n",
       "3            0.15  0.405  280  278  274  277.333333  5.625220  0.011035\n",
       "4            0.20  0.540  245  238  237  240.000000  5.480639  0.018074\n",
       "5            0.25  0.675  197  187  189  191.000000  5.252273  0.027525\n",
       "6            0.30  0.810  160  154  155  156.333333  5.051990  0.020456\n",
       "7            0.35  0.945  177  177  175  176.333333  5.172376  0.006561\n",
       "8            0.40  1.080  148  144  141  144.333333  4.972125  0.024295\n",
       "9            0.55  1.485  144  140  139  141.000000  4.948760  0.018681\n",
       "10           0.95  2.565  138  133  134  135.000000  4.905275  0.019507"
      ]
     },
     "execution_count": 2,
     "metadata": {},
     "output_type": "execute_result"
    }
   ],
   "source": [
    "df = df2.drop(['lnN1', 'lnN2' ,'lnN3'], axis = 1)         # Deleting columns \n",
    "df"
   ]
  },
  {
   "cell_type": "code",
   "execution_count": null,
   "metadata": {},
   "outputs": [],
   "source": []
  },
  {
   "cell_type": "code",
   "execution_count": 3,
   "metadata": {},
   "outputs": [
    {
     "name": "stdout",
     "output_type": "stream",
     "text": [
      "Statistics=0.893, p=0.183\n"
     ]
    }
   ],
   "source": [
    "# normality test\n",
    "stat, p = shapiro(df2.lnN)\n",
    "print('Statistics=%.3f, p=%.3f' % (stat, p))\n"
   ]
  },
  {
   "cell_type": "markdown",
   "metadata": {},
   "source": [
    "# Since the p value is greater than 0.05 , we can say that the given distribution is  normal. "
   ]
  },
  {
   "cell_type": "code",
   "execution_count": 4,
   "metadata": {},
   "outputs": [],
   "source": [
    "f = df2.lnN\n",
    "sd =f.std()\n",
    "mu = f.mean()\n",
    "a ,b = mu-3*sd, mu+3*sd\n",
    "x = np.linspace(a,b,1000)\n",
    "y = norm.pdf(x, loc = mu, scale = sd)"
   ]
  },
  {
   "cell_type": "code",
   "execution_count": 5,
   "metadata": {},
   "outputs": [
    {
     "data": {
      "text/plain": [
       "(array([2.64692328, 0.88230776, 0.88230776, 0.88230776, 0.        ,\n",
       "        0.88230776, 0.88230776, 0.        , 0.88230776, 0.88230776]),\n",
       " array([4.90527478, 5.01861392, 5.13195305, 5.24529219, 5.35863133,\n",
       "        5.47197046, 5.5853096 , 5.69864874, 5.81198787, 5.92532701,\n",
       "        6.03866615]),\n",
       " <BarContainer object of 10 artists>)"
      ]
     },
     "execution_count": 5,
     "metadata": {},
     "output_type": "execute_result"
    },
    {
     "data": {
      "image/png": "[encoded data removed]",
      "text/plain": [
       "<Figure size 432x288 with 1 Axes>"
      ]
     },
     "metadata": {
      "needs_background": "light"
     },
     "output_type": "display_data"
    }
   ],
   "source": [
    "\n",
    "\n",
    "plt.plot(x,y,'.g')\n",
    "\n",
    "plt.hist(f,alpha=.5, density = True) "
   ]
  },
  {
   "cell_type": "code",
   "execution_count": 6,
   "metadata": {},
   "outputs": [],
   "source": [
    "## QQ plot"
   ]
  },
  {
   "cell_type": "code",
   "execution_count": 7,
   "metadata": {},
   "outputs": [],
   "source": [
    "import statsmodels.api as sm \n",
    "import pylab as py "
   ]
  },
  {
   "cell_type": "code",
   "execution_count": 8,
   "metadata": {},
   "outputs": [
    {
     "data": {
      "image/png": "[encoded data removed]",
      "text/plain": [
       "<Figure size 432x288 with 1 Axes>"
      ]
     },
     "metadata": {
      "needs_background": "light"
     },
     "output_type": "display_data"
    }
   ],
   "source": [
    "sm.qqplot(f, fit= True, line = \"45\") \n",
    "py.show() "
   ]
  },
  {
   "cell_type": "code",
   "execution_count": 9,
   "metadata": {},
   "outputs": [],
   "source": [
    "#Standard error  of the mean, standard deviation, mean "
   ]
  },
  {
   "cell_type": "code",
   "execution_count": 10,
   "metadata": {},
   "outputs": [],
   "source": [
    "from scipy.stats import sem \n"
   ]
  },
  {
   "cell_type": "code",
   "execution_count": 11,
   "metadata": {},
   "outputs": [
    {
     "data": {
      "text/plain": [
       "0.13001887423283032"
      ]
     },
     "execution_count": 11,
     "metadata": {},
     "output_type": "execute_result"
    }
   ],
   "source": [
    "sem(df2.lnN)\n"
   ]
  },
  {
   "cell_type": "code",
   "execution_count": 12,
   "metadata": {},
   "outputs": [
    {
     "data": {
      "text/plain": [
       "0.39005662269849095"
      ]
     },
     "execution_count": 12,
     "metadata": {},
     "output_type": "execute_result"
    }
   ],
   "source": [
    "np.std(df2.lnN) "
   ]
  },
  {
   "cell_type": "code",
   "execution_count": 13,
   "metadata": {},
   "outputs": [
    {
     "data": {
      "text/plain": [
       "5.336711489359999"
      ]
     },
     "execution_count": 13,
     "metadata": {},
     "output_type": "execute_result"
    }
   ],
   "source": [
    "np.mean(df2.lnN)"
   ]
  },
  {
   "cell_type": "markdown",
   "metadata": {},
   "source": [
    "# Curve Fitting "
   ]
  },
  {
   "cell_type": "code",
   "execution_count": 14,
   "metadata": {},
   "outputs": [],
   "source": [
    "import numpy as np\n",
    "from scipy.optimize import curve_fit\n",
    "import pandas as pd\n",
    "import scipy.stats as st\n",
    "import matplotlib.pyplot as plt"
   ]
  },
  {
   "cell_type": "code",
   "execution_count": 15,
   "metadata": {},
   "outputs": [
    {
     "data": {
      "text/html": [
       "<div>\n",
       "<style scoped>\n",
       "    .dataframe tbody tr th:only-of-type {\n",
       "        vertical-align: middle;\n",
       "    }\n",
       "\n",
       "    .dataframe tbody tr th {\n",
       "        vertical-align: top;\n",
       "    }\n",
       "\n",
       "    .dataframe thead th {\n",
       "        text-align: right;\n",
       "    }\n",
       "</style>\n",
       "<table border=\"1\" class=\"dataframe\">\n",
       "  <thead>\n",
       "    <tr style=\"text-align: right;\">\n",
       "      <th></th>\n",
       "      <th>thickness(mm)</th>\n",
       "      <th>x</th>\n",
       "      <th>N1</th>\n",
       "      <th>N2</th>\n",
       "      <th>N3</th>\n",
       "      <th>N</th>\n",
       "      <th>lnN</th>\n",
       "      <th>lnN1</th>\n",
       "      <th>lnN2</th>\n",
       "      <th>lnN3</th>\n",
       "      <th>SE</th>\n",
       "    </tr>\n",
       "  </thead>\n",
       "  <tbody>\n",
       "    <tr>\n",
       "      <th>1</th>\n",
       "      <td>0.05</td>\n",
       "      <td>0.135</td>\n",
       "      <td>428</td>\n",
       "      <td>416</td>\n",
       "      <td>414</td>\n",
       "      <td>419.333333</td>\n",
       "      <td>6.038666</td>\n",
       "      <td>6.059123</td>\n",
       "      <td>6.030685</td>\n",
       "      <td>6.025866</td>\n",
       "      <td>0.017972</td>\n",
       "    </tr>\n",
       "    <tr>\n",
       "      <th>2</th>\n",
       "      <td>0.10</td>\n",
       "      <td>0.270</td>\n",
       "      <td>380</td>\n",
       "      <td>370</td>\n",
       "      <td>367</td>\n",
       "      <td>372.333333</td>\n",
       "      <td>5.919790</td>\n",
       "      <td>5.940171</td>\n",
       "      <td>5.913503</td>\n",
       "      <td>5.905362</td>\n",
       "      <td>0.018208</td>\n",
       "    </tr>\n",
       "    <tr>\n",
       "      <th>3</th>\n",
       "      <td>0.15</td>\n",
       "      <td>0.405</td>\n",
       "      <td>280</td>\n",
       "      <td>278</td>\n",
       "      <td>274</td>\n",
       "      <td>277.333333</td>\n",
       "      <td>5.625220</td>\n",
       "      <td>5.634790</td>\n",
       "      <td>5.627621</td>\n",
       "      <td>5.613128</td>\n",
       "      <td>0.011035</td>\n",
       "    </tr>\n",
       "    <tr>\n",
       "      <th>4</th>\n",
       "      <td>0.20</td>\n",
       "      <td>0.540</td>\n",
       "      <td>245</td>\n",
       "      <td>238</td>\n",
       "      <td>237</td>\n",
       "      <td>240.000000</td>\n",
       "      <td>5.480639</td>\n",
       "      <td>5.501258</td>\n",
       "      <td>5.472271</td>\n",
       "      <td>5.468060</td>\n",
       "      <td>0.018074</td>\n",
       "    </tr>\n",
       "    <tr>\n",
       "      <th>5</th>\n",
       "      <td>0.25</td>\n",
       "      <td>0.675</td>\n",
       "      <td>197</td>\n",
       "      <td>187</td>\n",
       "      <td>189</td>\n",
       "      <td>191.000000</td>\n",
       "      <td>5.252273</td>\n",
       "      <td>5.283204</td>\n",
       "      <td>5.231109</td>\n",
       "      <td>5.241747</td>\n",
       "      <td>0.027525</td>\n",
       "    </tr>\n",
       "    <tr>\n",
       "      <th>6</th>\n",
       "      <td>0.30</td>\n",
       "      <td>0.810</td>\n",
       "      <td>160</td>\n",
       "      <td>154</td>\n",
       "      <td>155</td>\n",
       "      <td>156.333333</td>\n",
       "      <td>5.051990</td>\n",
       "      <td>5.075174</td>\n",
       "      <td>5.036953</td>\n",
       "      <td>5.043425</td>\n",
       "      <td>0.020456</td>\n",
       "    </tr>\n",
       "    <tr>\n",
       "      <th>7</th>\n",
       "      <td>0.35</td>\n",
       "      <td>0.945</td>\n",
       "      <td>177</td>\n",
       "      <td>177</td>\n",
       "      <td>175</td>\n",
       "      <td>176.333333</td>\n",
       "      <td>5.172376</td>\n",
       "      <td>5.176150</td>\n",
       "      <td>5.176150</td>\n",
       "      <td>5.164786</td>\n",
       "      <td>0.006561</td>\n",
       "    </tr>\n",
       "    <tr>\n",
       "      <th>8</th>\n",
       "      <td>0.40</td>\n",
       "      <td>1.080</td>\n",
       "      <td>148</td>\n",
       "      <td>144</td>\n",
       "      <td>141</td>\n",
       "      <td>144.333333</td>\n",
       "      <td>4.972125</td>\n",
       "      <td>4.997212</td>\n",
       "      <td>4.969813</td>\n",
       "      <td>4.948760</td>\n",
       "      <td>0.024295</td>\n",
       "    </tr>\n",
       "    <tr>\n",
       "      <th>9</th>\n",
       "      <td>0.55</td>\n",
       "      <td>1.485</td>\n",
       "      <td>144</td>\n",
       "      <td>140</td>\n",
       "      <td>139</td>\n",
       "      <td>141.000000</td>\n",
       "      <td>4.948760</td>\n",
       "      <td>4.969813</td>\n",
       "      <td>4.941642</td>\n",
       "      <td>4.934474</td>\n",
       "      <td>0.018681</td>\n",
       "    </tr>\n",
       "    <tr>\n",
       "      <th>10</th>\n",
       "      <td>0.95</td>\n",
       "      <td>2.565</td>\n",
       "      <td>138</td>\n",
       "      <td>133</td>\n",
       "      <td>134</td>\n",
       "      <td>135.000000</td>\n",
       "      <td>4.905275</td>\n",
       "      <td>4.927254</td>\n",
       "      <td>4.890349</td>\n",
       "      <td>4.897840</td>\n",
       "      <td>0.019507</td>\n",
       "    </tr>\n",
       "  </tbody>\n",
       "</table>\n",
       "</div>"
      ],
      "text/plain": [
       "    thickness(mm)      x   N1   N2   N3           N       lnN      lnN1  \\\n",
       "1            0.05  0.135  428  416  414  419.333333  6.038666  6.059123   \n",
       "2            0.10  0.270  380  370  367  372.333333  5.919790  5.940171   \n",
       "3            0.15  0.405  280  278  274  277.333333  5.625220  5.634790   \n",
       "4            0.20  0.540  245  238  237  240.000000  5.480639  5.501258   \n",
       "5            0.25  0.675  197  187  189  191.000000  5.252273  5.283204   \n",
       "6            0.30  0.810  160  154  155  156.333333  5.051990  5.075174   \n",
       "7            0.35  0.945  177  177  175  176.333333  5.172376  5.176150   \n",
       "8            0.40  1.080  148  144  141  144.333333  4.972125  4.997212   \n",
       "9            0.55  1.485  144  140  139  141.000000  4.948760  4.969813   \n",
       "10           0.95  2.565  138  133  134  135.000000  4.905275  4.927254   \n",
       "\n",
       "        lnN2      lnN3       SE   \n",
       "1   6.030685  6.025866  0.017972  \n",
       "2   5.913503  5.905362  0.018208  \n",
       "3   5.627621  5.613128  0.011035  \n",
       "4   5.472271  5.468060  0.018074  \n",
       "5   5.231109  5.241747  0.027525  \n",
       "6   5.036953  5.043425  0.020456  \n",
       "7   5.176150  5.164786  0.006561  \n",
       "8   4.969813  4.948760  0.024295  \n",
       "9   4.941642  4.934474  0.018681  \n",
       "10  4.890349  4.897840  0.019507  "
      ]
     },
     "execution_count": 15,
     "metadata": {},
     "output_type": "execute_result"
    }
   ],
   "source": [
    "df2"
   ]
  },
  {
   "cell_type": "code",
   "execution_count": 16,
   "metadata": {},
   "outputs": [
    {
     "name": "stdout",
     "output_type": "stream",
     "text": [
      "-280.8146964855893\n",
      "317.9688498402246\n"
     ]
    },
    {
     "name": "stderr",
     "output_type": "stream",
     "text": [
      "The PostScript backend does not support transparency; partially transparent artists will be rendered opaque.\n"
     ]
    },
    {
     "data": {
      "image/png": "[encoded data removed]",
      "text/plain": [
       "<Figure size 720x432 with 1 Axes>"
      ]
     },
     "metadata": {
      "needs_background": "light"
     },
     "output_type": "display_data"
    }
   ],
   "source": [
    "\n",
    "data = np.loadtxt(\"ac.csv\",delimiter = ',')\n",
    "#data = np.loadtxt(\"test4multiplot.txt\", dtype = str)     #if file contains multiple data types\n",
    "#data\n",
    "\n",
    "x = data[:,1]\n",
    "y = data[:,6]\n",
    "# print(x)\n",
    "yerror = data[:,10]\n",
    "#plot data\n",
    "plt.figure(figsize = [10,6])\n",
    "plt.plot(x,y,\"-\", color = \"black\", label = \"Test data\")\n",
    "plt.errorbar(x,y, yerr = yerror,ecolor = 'red', elinewidth =2,capsize =5, fmt = '.')\n",
    "m , b = np.polyfit(x,y,1)\n",
    "print(m)  # m = slpoe and b = intercept\n",
    "print(b)\n",
    "\n",
    "plt.plot(x,m*x+b)\n",
    "\n",
    "plt.title(\"Counting with Error bar\", fontsize=16)\n",
    "plt.xlabel('$x[mg/mm^2]$', fontsize=14)\n",
    "plt.ylabel('$ ln N $', fontsize=14)\n",
    "plt.legend(fontsize=14)\n",
    "plt.grid(True) # comment this if u do not need grid\n",
    "plt.savefig(\"Decay.eps\")\n",
    "\n",
    "plt.show()"
   ]
  },
  {
   "cell_type": "markdown",
   "metadata": {},
   "source": [
    "# Confidence interval "
   ]
  },
  {
   "cell_type": "code",
   "execution_count": 17,
   "metadata": {},
   "outputs": [],
   "source": [
    "\n",
    "\n",
    "import scipy.stats as st\n"
   ]
  },
  {
   "cell_type": "code",
   "execution_count": 18,
   "metadata": {},
   "outputs": [
    {
     "data": {
      "text/plain": [
       "(152.841058338916, 297.758941661044)"
      ]
     },
     "execution_count": 18,
     "metadata": {},
     "output_type": "execute_result"
    }
   ],
   "source": [
    "y = data[:,6] \n",
    "st.t.interval(alpha=0.95, df=len(y)-1, loc=np.mean(y),scale=st.sem(y))"
   ]
  },
  {
   "cell_type": "code",
   "execution_count": 19,
   "metadata": {},
   "outputs": [],
   "source": [
    "def lin_fun(x,a1,a2):\n",
    "    return a1*x + a2\n",
    "def cos_fun(x,a3,a4,a5,a6):\n",
    "    return a3*np.cos(x+a4)*np.exp(-x*a5) + a6\n",
    "\n",
    "def exp_fun(x,a7,a8,a9):\n",
    "    return a7*np.exp(-a8*x) + a9\n"
   ]
  },
  {
   "cell_type": "code",
   "execution_count": 20,
   "metadata": {},
   "outputs": [
    {
     "name": "stdout",
     "output_type": "stream",
     "text": [
      "[-280.81469903  317.96885048]\n",
      "[[ 8581.0075473  -2831.73248555]\n",
      " [-2831.73248555  1471.64277927]]\n",
      "a1 =  -280.814699030771 +- 92.63372791427274\n",
      "a2 =  317.9688504819797 +- 38.36199654953256\n"
     ]
    },
    {
     "data": {
      "text/plain": [
       "<matplotlib.legend.Legend at 0x7f9bd25c81c0>"
      ]
     },
     "execution_count": 20,
     "metadata": {},
     "output_type": "execute_result"
    },
    {
     "data": {
      "image/png": "[encoded data removed]",
      "text/plain": [
       "<Figure size 720x432 with 1 Axes>"
      ]
     },
     "metadata": {
      "needs_background": "light"
     },
     "output_type": "display_data"
    }
   ],
   "source": [
    "#curve_fit to find best fit parameters using a least square fit.\n",
    "popt,pcov = curve_fit(lin_fun,x,y)\n",
    "p1,p2 = popt\n",
    "print(popt)\n",
    "print(pcov)\n",
    "print(\"a1 = \", popt[0], \"+-\", pcov[0,0]**0.5)\n",
    "print(\"a2 = \", popt[1], \"+-\", pcov[1,1]**0.5)\n",
    "\n",
    "#x1_fit = np.arange(min(x1),max(x1),1)\n",
    "#x1_fit = np.arange(min(x),max(x)+1.0,1)\n",
    "y1_fit = lin_fun(x, p1, p2)\n",
    "\n",
    "plt.figure(figsize = [10,6])\n",
    "plt.plot(x,y,\"o\", label = \"data\")\n",
    "plt.plot(x,y1_fit,\"--\", label = \"fit\")\n",
    "plt.legend()"
   ]
  },
  {
   "cell_type": "code",
   "execution_count": 21,
   "metadata": {},
   "outputs": [],
   "source": [
    "from numpy import cov\n",
    "from scipy.stats import pearsonr"
   ]
  },
  {
   "cell_type": "code",
   "execution_count": 22,
   "metadata": {},
   "outputs": [
    {
     "name": "stdout",
     "output_type": "stream",
     "text": [
      "[[ 6.95555556e-02 -1.95322222e+01]\n",
      " [-1.95322222e+01  1.02597889e+04]]\n",
      "Pearson correlation : -0.731\n"
     ]
    }
   ],
   "source": [
    "covariance = cov(x,y)\n",
    "print(covariance)\n",
    "corr , _ = pearsonr(x,y)\n",
    "print(\"Pearson correlation : %.3f\" %corr)\n",
    "# t test for the population correlation coeffient \n"
   ]
  },
  {
   "cell_type": "markdown",
   "metadata": {},
   "source": [
    "# High level of correlation(nearly equal to -1) i.e. greater than 0.5 and a negative correlation. "
   ]
  },
  {
   "cell_type": "code",
   "execution_count": 23,
   "metadata": {},
   "outputs": [
    {
     "name": "stdout",
     "output_type": "stream",
     "text": [
      "t=-7.010, df=9, cv=1.833, p=0.000\n",
      "Reject the null hypothesis that the means are equal.\n",
      "Reject the null hypothesis that the means are equal.\n"
     ]
    }
   ],
   "source": [
    "# t-test for dependent samples\n",
    "from math import sqrt\n",
    "from numpy.random import seed\n",
    "from numpy.random import randn\n",
    "from numpy import mean\n",
    "from scipy.stats import t\n",
    " \n",
    "# function for calculating the t-test for two dependent samples\n",
    "def dependent_ttest(x, y, alpha):\n",
    "\t# calculate means\n",
    "\tmean1, mean2 = mean(x), mean(y)\n",
    "\t# number of paired samples\n",
    "\tn = len(x)\n",
    "\t# sum squared difference between observations\n",
    "\td1 = sum([(x[i]-y[i])**2 for i in range(n)])\n",
    "\t# sum difference between observations\n",
    "\td2 = sum([x[i]-y[i] for i in range(n)])\n",
    "\t# standard deviation of the difference between means\n",
    "\tsd = sqrt((d1 - (d2**2 / n)) / (n - 1))\n",
    "\t# standard error of the difference between the means\n",
    "\tsed = sd / sqrt(n)\n",
    "\t# calculate the t statistic\n",
    "\tt_stat = (mean1 - mean2) / sed\n",
    "\t# degrees of freedom\n",
    "\tdf = n - 1\n",
    "\t# calculate the critical value\n",
    "\tcv = t.ppf(1.0 - alpha, df)\n",
    "\t# calculate the p-value\n",
    "\tp = (1.0 - t.cdf(abs(t_stat), df)) * 2.0\n",
    "\t# return everything\n",
    "\treturn t_stat, df, cv, p\n",
    " \n",
    "\n",
    "# calculate the t test\n",
    "alpha = 0.05\n",
    "t_stat, df, cv, p = dependent_ttest(x, y, alpha)\n",
    "print('t=%.3f, df=%d, cv=%.3f, p=%.3f' % (t_stat, df, cv, p))\n",
    "# interpret via critical value\n",
    "if abs(t_stat) <= cv:\n",
    "\tprint('Accept null hypothesis that the means are equal.')\n",
    "else:\n",
    "\tprint('Reject the null hypothesis that the means are equal.')\n",
    "# interpret via p-value\n",
    "if p > alpha:\n",
    "\tprint('Accept null hypothesis that the means are equal.')\n",
    "else:\n",
    "\tprint('Reject the null hypothesis that the means are equal.')"
   ]
  },
  {
   "cell_type": "code",
   "execution_count": 24,
   "metadata": {},
   "outputs": [],
   "source": [
    "# calculate the critical value\n",
    "alpha = 0.05\n",
    "cv = t.ppf(1.0 - alpha, df) \n"
   ]
  },
  {
   "cell_type": "code",
   "execution_count": 25,
   "metadata": {},
   "outputs": [
    {
     "name": "stdout",
     "output_type": "stream",
     "text": [
      "Reject the null hypothesis that the means are equal.\n"
     ]
    }
   ],
   "source": [
    "# interpret via p-value\n",
    "if p > alpha:\n",
    "\tprint('Accept null hypothesis that the means are equal.')\n",
    "else:\n",
    "\tprint('Reject the null hypothesis that the means are equal.')"
   ]
  },
  {
   "cell_type": "code",
   "execution_count": 26,
   "metadata": {},
   "outputs": [],
   "source": [
    "#np.cov(data)\n",
    "# correlation between x and y\n",
    "# t test\n",
    "# result significance from p value"
   ]
  },
  {
   "cell_type": "code",
   "execution_count": 27,
   "metadata": {},
   "outputs": [],
   "source": [
    "# https://www.statsmodels.org/stable/generated/statsmodels.graphics.gofplots.qqplot.html"
   ]
  },
  {
   "cell_type": "code",
   "execution_count": 28,
   "metadata": {},
   "outputs": [],
   "source": [
    "# https://github.com/dharmapaudel "
   ]
  }
 ],
 "metadata": {
  "kernelspec": {
   "display_name": "Python 3 (ipykernel)",
   "language": "python",
   "name": "python3"
  },
  "language_info": {
   "codemirror_mode": {
    "name": "ipython",
    "version": 3
   },
   "file_extension": ".py",
   "mimetype": "text/x-python",
   "name": "python",
   "nbconvert_exporter": "python",
   "pygments_lexer": "ipython3",
   "version": "3.9.12"
  }
 },
 "nbformat": 4,
 "nbformat_minor": 2
}
